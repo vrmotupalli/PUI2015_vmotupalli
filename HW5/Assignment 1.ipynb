{
 "cells": [
  {
   "cell_type": "code",
   "execution_count": 2,
   "metadata": {
    "collapsed": false
   },
   "outputs": [
    {
     "name": "stdout",
     "output_type": "stream",
     "text": [
      "Populating the interactive namespace from numpy and matplotlib\n"
     ]
    }
   ],
   "source": [
    "\n",
    "\n",
    "import geopandas as gp\n",
    "import pandas as pd\n",
    "import os\n",
    "import json\n",
    "import pylab as pl\n",
    "import statsmodels.api as sm\n",
    "\n",
    "%pylab inline\n",
    "\n"
   ]
  },
  {
   "cell_type": "code",
   "execution_count": null,
   "metadata": {
    "collapsed": true
   },
   "outputs": [],
   "source": [
    "nrg = gp.GeoDataFrame.from_csv(\"Energy_and_Water_Data_Disclosure_for_Local_Law_84__2013_.csv\")\n",
    "print nrg.columns"
   ]
  },
  {
   "cell_type": "code",
   "execution_count": null,
   "metadata": {
    "collapsed": true
   },
   "outputs": [],
   "source": [
    "bsize = gp.GeoDataFrame.from_file(\"Manhattan/MNMapPLUTO.shp\")\n",
    "print bsize.columns"
   ]
  },
  {
   "cell_type": "code",
   "execution_count": null,
   "metadata": {
    "collapsed": true
   },
   "outputs": [],
   "source": [
    "from pandas.tools.plotting import scatter_matrix\n",
    "scatter_matrix (nrg, s=300, figsize=(16, 16), diagonal='kde')"
   ]
  },
  {
   "cell_type": "code",
   "execution_count": null,
   "metadata": {
    "collapsed": true
   },
   "outputs": [],
   "source": [
    "#create the indeces array here\n",
    "#indx = ..\n",
    "\n",
    "nrg['Reported Property Floor Area (Building(s)) (ft²)']=nrg['Reported Property Floor Area (Building(s)) (ft²)'].convert_objects(convert_numeric=True)\n",
    "nrg['Site EUI(kBtu/ft2)']=nrg['Site EUI(kBtu/ft2)'].convert_objects(convert_numeric=True)\n",
    "\n",
    "#I got convert_objects from discussion in class, multiple classmates provided advice\n"
   ]
  },
  {
   "cell_type": "code",
   "execution_count": null,
   "metadata": {
    "collapsed": true
   },
   "outputs": [],
   "source": [
    "#nrg['BBL'] = ...\n",
    "#bblnrgdata = pd.merge(.....)\n",
    "\n",
    "# merge datasets using newly created created column BBL\n",
    "nrg['BBL'] = nrg['NYC Borough, Block, and Lot (BBL)']\n",
    "bblnrgdata = nrg.merge(bsize, on='BBL')"
   ]
  },
  {
   "cell_type": "code",
   "execution_count": null,
   "metadata": {
    "collapsed": true
   },
   "outputs": [],
   "source": [
    "## Didn't like it when i used this\n",
    "\n",
    "## bblnrgdata_cut = bblnrgdata[bblnrgdata.nrg>1000]"
   ]
  },
  {
   "cell_type": "code",
   "execution_count": null,
   "metadata": {
    "collapsed": true
   },
   "outputs": [],
   "source": [
    "## y = (bblnrgdata_cut['Site EUI(kBtu/ft2)'])*(bblnrgdata_cut['Reported Property Floor Area (Building(s)) (ft²)']) # total energy\n",
    "## x = bblnrgdata_cut['UnitsTotal']\n",
    "\n",
    "y = (bblnrgdata['Site EUI(kBtu/ft2)'])*(bblnrgdata['Reported Property Floor Area (Building(s)) (ft²)']) # total energy\n",
    "x = bblnrgdata['UnitsTotal']"
   ]
  },
  {
   "cell_type": "code",
   "execution_count": null,
   "metadata": {
    "collapsed": true
   },
   "outputs": [],
   "source": [
    "fig=figure(figsize = (10,10))\n",
    "\n",
    "ax = fig.add_subplot(111)\n",
    "ax.plot(x, y, 'bo') #would I tack on loglog here?\n",
    "ax.set_xlim(1,3000)\n",
    "ax.set_ylim(1000, 1e11)\n",
    "plt.xlabel('total units')\n",
    "plt.ylabel('total energy/building')"
   ]
  },
  {
   "cell_type": "code",
   "execution_count": null,
   "metadata": {
    "collapsed": true
   },
   "outputs": [],
   "source": [
    "X = sm.add_constant(x)\n",
    "print X\n",
    "model = sm.OLS(y, X, missing='drop').fit() # ignores entires where x or y is NaN\n",
    "fit = model.fit()\n",
    "return fit.params[1], fit.params[0], fit # could also return stderr in each via fit.bse"
   ]
  },
  {
   "cell_type": "code",
   "execution_count": null,
   "metadata": {
    "collapsed": true
   },
   "outputs": [],
   "source": [
    "X = sm.add_constant(np.log10(x))\n",
    "print X\n",
    "model = sm.OLS(np.log10(y), X, missing='drop').fit() # ignores entires where x or y is NaN\n",
    "fit = model.fit()\n",
    "return fit.params[1], fit.params[0], fit # could also return stderr in each via fit.bse"
   ]
  },
  {
   "cell_type": "code",
   "execution_count": null,
   "metadata": {
    "collapsed": true
   },
   "outputs": [],
   "source": [
    "\n",
    "index = (x>0)&(x<4000)&(y>1000)&(y<1e11) # From Maria: must use ampersand, will assign true or false"
   ]
  },
  {
   "cell_type": "code",
   "execution_count": null,
   "metadata": {
    "collapsed": true
   },
   "outputs": [],
   "source": [
    "#plot model results above\n",
    "Y = np.log10(y[index])\n",
    "\n",
    "fig2 = figure(figsize = (10,10))\n",
    "modX = np.arange(0, 4, 1)\n",
    "modY = 0.0822*XLR + 6.9178\n",
    "ax = fig2.add_subplot(111)\n",
    "ax.plot(X, Y, 'ro')\n",
    "ax.plot(modX, modY, 'blue')\n",
    "plt.xlabel('log total units')\n",
    "plt.ylabel('log total value')"
   ]
  },
  {
   "cell_type": "markdown",
   "metadata": {},
   "source": [
    "1 var = 0 DF, therefore I can't do a likelihood ratio test. Log model fits better."
   ]
  }
 ],
 "metadata": {
  "kernelspec": {
   "display_name": "Python 3",
   "language": "python",
   "name": "python3"
  },
  "language_info": {
   "codemirror_mode": {
    "name": "ipython",
    "version": 3
   },
   "file_extension": ".py",
   "mimetype": "text/x-python",
   "name": "python",
   "nbconvert_exporter": "python",
   "pygments_lexer": "ipython3",
   "version": "3.4.3"
  }
 },
 "nbformat": 4,
 "nbformat_minor": 0
}
