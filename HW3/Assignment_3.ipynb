{
 "cells": [
  {
   "cell_type": "markdown",
   "metadata": {},
   "source": [
    "The intent is to test whether customers (non-subscribers) make proportionately more of the citibike rides during the weekend than during the week.\n",
    "\n",
    "H0 – The percentage of Citibike rides by customers is the same or greater during the weekend as it is during the week. HA – The percentage of Citibike rides by customers will decrease during the weekend as opposed to during the week.\n",
    "\n",
    "Our tests will evaluate the statistical significance of any observed change by performing a chi-squared test as it will indicate the likelihood of whether the observations made are due to chance. We are using a confidence level of .05.\n"
   ]
  },
  {
   "cell_type": "code",
   "execution_count": null,
   "metadata": {
    "collapsed": true
   },
   "outputs": [],
   "source": [
    "#Imports\n",
    "import pandas as pd\n",
    "from zipfile import ZipFile\n",
    "from StringIO import StringIO\n",
    "import urllib2\n",
    "import numpy as np\n",
    "import datetime\n",
    "from scipy.stats import chisquare"
   ]
  },
  {
   "cell_type": "code",
   "execution_count": null,
   "metadata": {
    "collapsed": true
   },
   "outputs": [],
   "source": [
    "# Pull down Citibike data into memory. \n",
    "ride_frames = []\n",
    "\n",
    "# A list of months, only valid for 01-06\n",
    "months = ['01', '02', '03', '04', '05', '06']\n",
    "for month in months:\n",
    "    url = \"https://s3.amazonaws.com/tripdata/2015%s-citibike-tripdata.zip\" % month\n",
    "    r = urllib2.urlopen(url).read()\n",
    "    f = ZipFile(StringIO(r))\n",
    "    csv = f.open(\"2015%s-citibike-tripdata.csv\" % month)\n",
    "    frame = pd.read_csv(csv)\n",
    "    \n",
    "    # Citibike date format is inconsistent between months...\n",
    "    try:\n",
    "        frame['starttime'] = pd.to_datetime(frame.starttime, format='%m/%d/%Y %H:%M:%S')\n",
    "    except:\n",
    "        try:\n",
    "            frame['starttime'] = pd.to_datetime(frame.starttime, format='%m/%d/%Y %H:%M')\n",
    "        except:\n",
    "            frame['starttime'] = pd.to_datetime(frame.starttime)\n",
    "            \n",
    "    ride_frames.append(frame)\n",
    "    \n",
    "# Concatenate all the individual months into one.\n",
    "rides = pd.concat(ride_frames, ignore_index=True)"
   ]
  },
  {
   "cell_type": "code",
   "execution_count": null,
   "metadata": {
    "collapsed": true
   },
   "outputs": [],
   "source": [
    "# Add separate day and date attributes to the dataframe\n",
    "rides['day'] = rides['starttime'].dt.dayofweek\n",
    "rides['date'] = rides['starttime'].dt.dayofyear"
   ]
  },
  {
   "cell_type": "code",
   "execution_count": null,
   "metadata": {
    "collapsed": true
   },
   "outputs": [],
   "source": [
    "\n",
    "\n",
    "# Create separate variables for the weekend and weekday rides.\n",
    "weekends = rides[(rides.day == 5) | (rides.day == 6)] \n",
    "weekdays = rides[(rides.day != 5) & (rides.day != 6)]\n",
    "\n",
    "# Get the number of weekends and weekdays in the sample to normalize the values\n",
    "num_weekends = len(np.unique(weekends['date']))\n",
    "num_weekdays = len(np.unique(weekdays['date']))\n",
    "\n",
    "# Get the average number of rides for customers/subscribers on weekdays/weekends\n",
    "custWknds = float(len(weekends[weekends.usertype == 'Customer']))/num_weekends\n",
    "subWknds = float(len(weekends[weekends.usertype == 'Subscriber']))/num_weekends\n",
    "custWkday = float(len(weekdays[weekdays.usertype == 'Customer']))/num_weekdays\n",
    "subWkday = float(len(weekdays[weekdays.usertype == 'Subscriber']))/num_weekdays"
   ]
  },
  {
   "cell_type": "code",
   "execution_count": null,
   "metadata": {
    "collapsed": true
   },
   "outputs": [],
   "source": [
    "# Test whether the total customers on weekends is different than weekday\n",
    "# The expected value for the weekday is the weekday count and the expected value for the weekend is\n",
    "# The proportion of customers on weekdays times the total number of rides on weekends.\n",
    "\n",
    "# Get the average total number of rides for weekends and weekdays\n",
    "totalWknds = custWknds + subWknds\n",
    "totalWkday = custWkday + subWkday\n",
    "\n",
    "# Get the percent of rides that are made by customers on weekdays\n",
    "custWkdayPercent = custWkday/totalWkday\n",
    "\n",
    "# The sample values are the customer rides for weekday/weekend\n",
    "sample = [custWkday, custWknds]\n",
    "\n",
    "# Make the expected value for the weekend the customer weekday percent\n",
    "# scaled to the total number of weekend rides\n",
    "expected = [custWkday, totalWknds*custWkdayPercent]\n",
    "\n",
    "chisquare(sample, expected)"
   ]
  },
  {
   "cell_type": "markdown",
   "metadata": {},
   "source": [
    "\n",
    "With a p-value of 0.0, we can reject our null hypothesis as we have found that there is a statistically significant chance that the observed difference from the expected value isn't due to a sampling variation.\n"
   ]
  }
 ],
 "metadata": {
  "kernelspec": {
   "display_name": "Python 3",
   "language": "python",
   "name": "python3"
  },
  "language_info": {
   "codemirror_mode": {
    "name": "ipython",
    "version": 3
   },
   "file_extension": ".py",
   "mimetype": "text/x-python",
   "name": "python",
   "nbconvert_exporter": "python",
   "pygments_lexer": "ipython3",
   "version": "3.4.3"
  }
 },
 "nbformat": 4,
 "nbformat_minor": 0
}
