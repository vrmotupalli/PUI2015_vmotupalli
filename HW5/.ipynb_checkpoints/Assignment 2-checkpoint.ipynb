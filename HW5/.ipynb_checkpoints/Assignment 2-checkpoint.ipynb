{
 "cells": [
  {
   "cell_type": "code",
   "execution_count": null,
   "metadata": {
    "collapsed": true
   },
   "outputs": [],
   "source": [
    "import pandas as pd\n",
    "import sys\n",
    "import os\n",
    "import numpy \n",
    "import pylab as pl\n",
    "\n",
    "import json\n",
    "import os\n",
    "s = json.load( open(os.getenv('PUI2015')+\"/fbb_matplotlibrc.json\") )\n",
    "pl.rcParams.update(s)\n",
    "\n",
    "\n",
    "\n",
    "%pylab inline"
   ]
  },
  {
   "cell_type": "code",
   "execution_count": 1,
   "metadata": {
    "collapsed": false
   },
   "outputs": [
    {
     "ename": "NameError",
     "evalue": "name 'pd' is not defined",
     "output_type": "error",
     "traceback": [
      "\u001b[1;31m---------------------------------------------------------------------------\u001b[0m",
      "\u001b[1;31mNameError\u001b[0m                                 Traceback (most recent call last)",
      "\u001b[1;32m<ipython-input-1-49e28b07e35e>\u001b[0m in \u001b[0;36m<module>\u001b[1;34m()\u001b[0m\n\u001b[0;32m      7\u001b[0m \u001b[0mallmales\u001b[0m\u001b[1;33m=\u001b[0m\u001b[1;33m{\u001b[0m\u001b[1;33m}\u001b[0m\u001b[1;33m\u001b[0m\u001b[0m\n\u001b[0;32m      8\u001b[0m \u001b[0mallfemales\u001b[0m\u001b[1;33m=\u001b[0m\u001b[1;33m{\u001b[0m\u001b[1;33m}\u001b[0m\u001b[1;33m\u001b[0m\u001b[0m\n\u001b[1;32m----> 9\u001b[1;33m \u001b[0mallmales\u001b[0m\u001b[1;33m[\u001b[0m\u001b[1;34m'all'\u001b[0m\u001b[1;33m]\u001b[0m\u001b[1;33m=\u001b[0m\u001b[0mpd\u001b[0m\u001b[1;33m.\u001b[0m\u001b[0mread_excel\u001b[0m\u001b[1;33m(\u001b[0m\u001b[0murl\u001b[0m\u001b[1;33m+\u001b[0m\u001b[1;34m'/pinc08_2_1_1.xls'\u001b[0m\u001b[1;33m,\u001b[0m\u001b[0mheader\u001b[0m\u001b[1;33m=\u001b[0m\u001b[1;36m9\u001b[0m\u001b[1;33m)\u001b[0m\u001b[1;31m#%s/pinc03_2_1_1.xls'%url, header=9)\u001b[0m\u001b[1;33m\u001b[0m\u001b[0m\n\u001b[0m\u001b[0;32m     10\u001b[0m \u001b[0mallmales\u001b[0m\u001b[1;33m[\u001b[0m\u001b[1;34m'white'\u001b[0m\u001b[1;33m]\u001b[0m\u001b[1;33m=\u001b[0m\u001b[0mpd\u001b[0m\u001b[1;33m.\u001b[0m\u001b[0mread_excel\u001b[0m\u001b[1;33m(\u001b[0m\u001b[0murl\u001b[0m\u001b[1;33m+\u001b[0m\u001b[1;34m'/pinc08_2_1_4.xls'\u001b[0m\u001b[1;33m,\u001b[0m \u001b[0mheader\u001b[0m\u001b[1;33m=\u001b[0m\u001b[1;36m9\u001b[0m\u001b[1;33m)\u001b[0m\u001b[1;33m\u001b[0m\u001b[0m\n\u001b[0;32m     11\u001b[0m \u001b[0mallmales\u001b[0m\u001b[1;33m[\u001b[0m\u001b[1;34m'black'\u001b[0m\u001b[1;33m]\u001b[0m\u001b[1;33m=\u001b[0m\u001b[0mpd\u001b[0m\u001b[1;33m.\u001b[0m\u001b[0mread_excel\u001b[0m\u001b[1;33m(\u001b[0m\u001b[0murl\u001b[0m\u001b[1;33m+\u001b[0m\u001b[1;34m'/pinc08_2_1_6.xls'\u001b[0m\u001b[1;33m,\u001b[0m \u001b[0mheader\u001b[0m\u001b[1;33m=\u001b[0m\u001b[1;36m9\u001b[0m\u001b[1;33m)\u001b[0m\u001b[1;33m\u001b[0m\u001b[0m\n",
      "\u001b[1;31mNameError\u001b[0m: name 'pd' is not defined"
     ]
    }
   ],
   "source": [
    "#to use the url just pas it to pandas read_excell\n",
    "url=\"http://cosmo.nyu.edu/~fb55/UI_CUSP_2015/data/\"\n",
    "#split your data by male and female, for example you can load the data into 2 disctionary. other variables may be relevant: for example race.\n",
    "#the names are not informative, and i am not giving you any meta data to find out what is in each file. \n",
    "# 08_2 files are male, 08_3 are female, and I am leaving in the lines of code that read the male files into races\n",
    "\n",
    "allmales={}\n",
    "allfemales={}\n",
    "allmales['all']=pd.read_excel(url+'/pinc08_2_1_1.xls',header=9)#%s/pinc03_2_1_1.xls'%url, header=9)\n",
    "allmales['white']=pd.read_excel(url+'/pinc08_2_1_4.xls', header=9)\n",
    "allmales['black']=pd.read_excel(url+'/pinc08_2_1_6.xls', header=9)\n",
    "allmales['hispanic']=pd.read_excel(url+'/pinc08_2_1_9.xls', header=9)\n",
    "allmales['asian']=pd.read_excel(url+'/pinc08_2_1_8.xls', header=9)\n",
    "\n",
    "allfemales['all']=pd.read_excel(url+'/pinc08_2_1_1.xls',header=9)#%s/pinc03_2_1_1.xls'%url, header=9)\n",
    "allfemales['white']=pd.read_excel(url+'/pinc08_2_1_4.xls', header=9)\n",
    "allfemales['black']=pd.read_excel(url+'/pinc08_2_1_6.xls', header=9)\n",
    "allfemales['hispanic']=pd.read_excel(url+'/pinc08_2_1_9.xls', header=9)\n",
    "allfemales['asian']=pd.read_excel(url+'/pinc08_2_1_8.xls', header=9)"
   ]
  },
  {
   "cell_type": "code",
   "execution_count": null,
   "metadata": {
    "collapsed": true
   },
   "outputs": [],
   "source": [
    "#lest see what is in the data\n",
    "from pandas.tools.plotting import scatter_matrix\n",
    "#scatter_matrix(allmales, s=300, figsize=(16, 16), diagonal='kde')\n",
    "\n",
    "#like for the building homework: this fails cause the data is not parsed and formatted propoerly\n",
    "#so maybe just print the columns to find out\n",
    "print allmales['all'].columns"
   ]
  },
  {
   "cell_type": "code",
   "execution_count": null,
   "metadata": {
    "collapsed": true
   },
   "outputs": [],
   "source": [
    "for x in allmales:\n",
    "    nonreal  = allmales[x].applymap(np.isreal)\n",
    "    for c in allmales[x].columns :\n",
    "        if nonreal.sum()[c]>1 and nonreal.sum()[c]<49:\n",
    "            allmales[x][c][~nonreal[c]] = np.float('NaN')\n",
    "            allmales[x][c] = allmales[x][c].astype(float)\n",
    "\n",
    "for k in allfemales:\n",
    "    nonreal  = allfemales[k].applymap(np.isreal)\n",
    "    for c in allfemales[k].columns :\n",
    "        if nonreal.sum()[c]>1 and nonreal.sum()[c]<49:\n",
    "            allfemales[k][c][~nonreal[c]] = np.float('NaN')\n",
    "            allfemales[k][c] = allfemales[k][c].astype(float)"
   ]
  },
  {
   "cell_type": "code",
   "execution_count": null,
   "metadata": {
    "collapsed": true
   },
   "outputs": [],
   "source": [
    "males = []\n",
    "females = []\n",
    "for n in sorted(males.keys()):\n",
    "    males.append(allmales[n]['Median income'].sum())\n",
    "for n in sorted(allfemales.keys()):\n",
    "    females.append(allfemales[n]['Median income'].sum())\n",
    "x = maleList\n",
    "y = femaleList\n",
    "pl.scatter(x,y,'x',color='r')\n",
    "pl.xlabel('Male income')\n",
    "pl.ylabel('Female income')"
   ]
  },
  {
   "cell_type": "markdown",
   "metadata": {},
   "source": [
    "Female values are less than their corresponding male values...70 for males = 55 for females."
   ]
  },
  {
   "cell_type": "code",
   "execution_count": null,
   "metadata": {
    "collapsed": true
   },
   "outputs": [],
   "source": [
    "def line(var,m,b):\n",
    "    return m*var+b"
   ]
  },
  {
   "cell_type": "code",
   "execution_count": null,
   "metadata": {
    "collapsed": true
   },
   "outputs": [],
   "source": [
    "\n",
    "#fit and plot here\n",
    "#[...]\n",
    "xi = np.arange(100000,800000,5000)\n",
    "m, n = np.polyfit(x,y,1)\n",
    "mod = line(xi,m,n)\n",
    "print m,n\n",
    "pl.plot(xi,mod)\n",
    "pl.plot([100000,800000],[100000,800000])\n",
    "pl.legend(['female vs male','fitted line'],loc=2)\n",
    "\n"
   ]
  },
  {
   "cell_type": "code",
   "execution_count": null,
   "metadata": {
    "collapsed": true
   },
   "outputs": [],
   "source": [
    "\n",
    "\n",
    "#this is the analytical best regression line. it can be proved (ask me about it if you want!)\n",
    "from scipy import stats\n",
    "all_males = np.asarray(maleList)\n",
    "all_females = np.asarray(femaleList)\n",
    "cor = stats.spearmanr(all_males, all_females)\n",
    "all_males.std()/all_females.std()\n",
    "beta1=cor[0]*all_females.std()/all_males.std()\n",
    "beta0=all_females.mean()-beta1*all_males.mean()\n",
    "\n"
   ]
  },
  {
   "cell_type": "code",
   "execution_count": null,
   "metadata": {
    "collapsed": true
   },
   "outputs": [],
   "source": [
    "#[...]\n",
    "moremod = line(xi,beta1,beta0)\n",
    "pl.plot(xi,moremod)\n",
    "pl.plot([100000,800000],[100000,800000])\n",
    "pl.legend(['female vs male','fitted line'],loc=2)"
   ]
  },
  {
   "cell_type": "code",
   "execution_count": null,
   "metadata": {
    "collapsed": true
   },
   "outputs": [],
   "source": [
    "all_males=np.ma.array(np.concatenate([allmales['all']['Median income'][:].values,allmales['white']['Median income'][:].values,allmales['black']['Median income'][:].values,allmales['hispanic']['Median income'][:].values,allmales['asian']['Median income'][:].values]).flatten())\n",
    "\n",
    "all_females=np.ma.array(np.concatenate([allfemales['all']['Median income'][:].values,allfemales['white']['Median income'][:].values,allfemales['black']['Median income'][:].values,allfemales['hispanic']['Median income'][:].values,allfemales['asian']['Median income'][:].values]).flatten())\n",
    "\n",
    "#I am gonna create the mask int he next line. \n",
    "#the mask is True where either male or female value is Nan. \n",
    "#Notice that True is really just >1, and False really 0. \n",
    "#so i can add the male and female mask and the resulting mask will be \n",
    "#False where both arrays are not Nan, and true otherwise. \n",
    "\n",
    "allmask = [np.isnan(all_males) + np.isnan(all_females)]\n",
    "\n",
    "all_females.mask = allmask\n",
    "all_males.mask = allmask"
   ]
  },
  {
   "cell_type": "code",
   "execution_count": null,
   "metadata": {
    "collapsed": true
   },
   "outputs": [],
   "source": [
    "#fit and plot [...]\n",
    "all_males = all_males[~all_males.mask]\n",
    "all_females = all_females[~all_females.mask]\n",
    "#print len(all_males)\n",
    "#print len(all_females)\n",
    "pl.plot(all_males,all_females,'x')\n",
    "a, b = np.polyfit(all_males,all_females,1)\n",
    "maskmod = line(all_males,a,b)\n",
    "print a,b\n",
    "pl.plot(all_males,maskmod)"
   ]
  },
  {
   "cell_type": "markdown",
   "metadata": {},
   "source": [
    "Fit is reasonably similar with lots of high leverage points. you would just enter your variable stipend as x in your preferred model to receive the female equivalent. You could then pull out models by race, and do the same thing i.e. allMales['<race>'] vs allFemales[',race.']"
   ]
  }
 ],
 "metadata": {
  "kernelspec": {
   "display_name": "Python 3",
   "language": "python",
   "name": "python3"
  },
  "language_info": {
   "codemirror_mode": {
    "name": "ipython",
    "version": 3
   },
   "file_extension": ".py",
   "mimetype": "text/x-python",
   "name": "python",
   "nbconvert_exporter": "python",
   "pygments_lexer": "ipython3",
   "version": "3.4.3"
  }
 },
 "nbformat": 4,
 "nbformat_minor": 0
}
