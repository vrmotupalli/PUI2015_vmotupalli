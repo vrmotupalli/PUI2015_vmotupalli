{
 "cells": [
  {
   "cell_type": "code",
   "execution_count": null,
   "metadata": {
    "collapsed": true
   },
   "outputs": [],
   "source": [
    "import pylab as pl\n",
    "import pandas as pd\n",
    "import numpy as np\n",
    "%pylab inline\n",
    "\n",
    "import os"
   ]
  },
  {
   "cell_type": "code",
   "execution_count": null,
   "metadata": {
    "collapsed": true
   },
   "outputs": [],
   "source": [
    "# use data from January 2015 to September 2015\n",
    "dfSp = pd.read_csv('201504-citibike-tripdata.csv')\n",
    "dfSu = pd.read_csv('201506-citibike-tripdata.csv')\n",
    "dfF = pd.read_csv('201509-citibike-tripdata.csv')\n",
    "dfW = pd.read_csv('201501-citibike-tripdata.csv')"
   ]
  },
  {
   "cell_type": "code",
   "execution_count": null,
   "metadata": {
    "collapsed": true
   },
   "outputs": [],
   "source": [
    "# didnt know how to do without this\n",
    "SSbin = [dfSp, dfSu]\n",
    "FWbin = [dfF, dfW]\n",
    "ss = pd.concat(SSbin, axis=0, ignore_index=True)\n",
    "fw = pd.concat(FWbin, axis=0, ignore_index=True)"
   ]
  },
  {
   "cell_type": "code",
   "execution_count": null,
   "metadata": {
    "collapsed": true
   },
   "outputs": [],
   "source": [
    "#from classmates and provided notebooks...\n",
    "\n",
    "bins = np.arange(10, 99, 10)\n",
    "ssDis = ss['age'].groupby(pd.cut(ss['age'], bins)).agg([count_nonzero])\n",
    "ssDis.plot(kind='bar',title='Spring + Summer',color='r')\n",
    "fwDis = fw['age'].groupby(pd.cut(fw['age'], bins)).agg([count_nonzero])\n",
    "fwDis.plot(kind='bar',title='Fall + Winter')"
   ]
  },
  {
   "cell_type": "code",
   "execution_count": null,
   "metadata": {
    "collapsed": true
   },
   "outputs": [],
   "source": [
    "##KS Test\n",
    "\n",
    "from scipy import stats\n",
    "#compare to normal\n",
    "\n",
    "ksSS=stats.kstest(ssDis, 'norm')\n",
    "ksFW=stats.kstest(fwDis, 'norm')\n",
    "print \"spring and summer, normal fit\", ksSS\n",
    "print \"fall and winter, normal fit\", ksFW\n",
    "\n",
    "#compare to poisson \n",
    "\n",
    "ksSS=stats.kstest(ssDis, 'cauchy')\n",
    "ksFW=stats.kstest(fwDis, 'cauchy')\n",
    "print \"spring and summer, poisson fit\", ksSS\n",
    "print \"fall and winter, poisson fit\", ksFW"
   ]
  },
  {
   "cell_type": "markdown",
   "metadata": {},
   "source": [
    "Poisson fits better"
   ]
  },
  {
   "cell_type": "code",
   "execution_count": null,
   "metadata": {
    "collapsed": true
   },
   "outputs": [],
   "source": [
    "##Anderson Test\n",
    "#compare to normal\n",
    "\n",
    "adSS=stats.anderson(ss.age[~np.isnan(ss.age)], 'norm')\n",
    "adFW=stats.anderson(fw.age[~np.isnan(fw.age)], 'norm')\n",
    "print \"spring and summer, normal fit\", ksSS\n",
    "print \"fall and winter, normal fit\", ksFW\n",
    "\n",
    "#compare to poisson \n",
    "\n",
    "adSS=stats.anderson(ss.age[~np.isnan(ss.age)], 'logistic')\n",
    "adFW=stats.anderson(fw.age[~np.isnan(fw.age)], 'logistic')\n",
    "print \"spring and summer, logistic fit\", adSS\n",
    "print \"fall and winter, logistic fit\", adFW"
   ]
  },
  {
   "cell_type": "markdown",
   "metadata": {},
   "source": [
    "Same, Poisson is a better fit"
   ]
  }
 ],
 "metadata": {
  "kernelspec": {
   "display_name": "Python 3",
   "language": "python",
   "name": "python3"
  },
  "language_info": {
   "codemirror_mode": {
    "name": "ipython",
    "version": 3
   },
   "file_extension": ".py",
   "mimetype": "text/x-python",
   "name": "python",
   "nbconvert_exporter": "python",
   "pygments_lexer": "ipython3",
   "version": "3.4.3"
  }
 },
 "nbformat": 4,
 "nbformat_minor": 0
}
