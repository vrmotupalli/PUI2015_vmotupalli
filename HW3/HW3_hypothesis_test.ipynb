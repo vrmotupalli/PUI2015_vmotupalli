{
 "cells": [
  {
   "cell_type": "markdown",
   "metadata": {},
   "source": [
    "Ha: The ratio of subscriber trips to customer trips is lower on weekends than on weekdays.\n",
    "\n",
    "Ho: The ratio of subscriber trips to customer trips is the same or higher on weekends than on weekdays.\n",
    "\n",
    "Also might be interesting to look at Feb 2015 compared to July 2015. See markdown at bottom of notebook.\n",
    "\n",
    "(Potential) Tasks:\n",
    "* Ensure Ho and Ha make sense. Select confidence level (.05 should be fine).\n",
    "* Select a month’s worth of Citibike data to analyze (Citibike July 2015 csv (zipped) is in the same folder this document is in.). \n",
    "* Bin rides by weekday and weekend\n",
    "* Weekend dates in July 2015 were: 4, 5, 11, 12, 18, 19, 25, 26\n",
    "* Bin each of the two groups in #3 by subscribers and customers\n",
    "* Calculate averages for weekday subscriber rides, weekday customer rides, weekend subscriber rides and weekend customer rides.\n",
    "* Identify most appropriate statistical test and run. Reject or accept Ho.\n",
    "* Create some visualization.\n"
   ]
  },
  {
   "cell_type": "markdown",
   "metadata": {},
   "source": [
    "###You don't actually have to run the below--I've included the ratios in the comments toward end of script."
   ]
  },
  {
   "cell_type": "code",
   "execution_count": null,
   "metadata": {
    "collapsed": true
   },
   "outputs": [],
   "source": [
    "import pandas as pd\n",
    "\n",
    "#below date parsing from string takes a little while to run, so be patient \n",
    "bikes = pd.read_csv(\"july15bikes.csv\", parse_dates=['starttime'])\n",
    "#values 5,6 are Saturday and Sunday. Not 6 and 7.\n",
    "days = bikes['starttime'].dt.dayofweek\n",
    "bikes['dayvals'] = days\n",
    "\n",
    "weekends = bikes[(bikes.dayvals == 5) | (bikes.dayvals == 6)] \n",
    "weekdays = bikes[(bikes.dayvals != 5) & (bikes.dayvals != 6)]\n",
    "\n",
    "custWknds = weekends[weekends.usertype == 'Customer']\n",
    "subWknds = weekends[weekends.usertype == 'Subscriber']\n",
    "\n",
    "custWkday = weekdays[weekdays.usertype == 'Customer']\n",
    "subWkday = weekdays[weekdays.usertype == 'Subscriber']\n",
    "\n",
    "print 'Weekend customers = %s' % (len(custWknds))\n",
    "print 'Weekend subscribers = %s' % (len(subWknds)) \n",
    "print 'Weekday customers = %s' % (len(custWkday))\n",
    "print 'Weekday subscribers = %s' % (len(subWkday))"
   ]
  },
  {
   "cell_type": "markdown",
   "metadata": {},
   "source": [
    "###Better as a function?"
   ]
  },
  {
   "cell_type": "code",
   "execution_count": null,
   "metadata": {
    "collapsed": true
   },
   "outputs": [],
   "source": [
    "import pandas as pd\n",
    "\n",
    "def riderprops(csv):\n",
    "\n",
    "\tbikes = pd.read_csv(csv, parse_dates=['starttime'])\n",
    "\t#values 5,6 are Saturday and Sunday\n",
    "\tdays = bikes['starttime'].dt.dayofweek\n",
    "\tbikes['dayvals'] = days\n",
    "\n",
    "\tweekends = bikes[(bikes.dayvals == 5) | (bikes.dayvals == 6)] \n",
    "\tweekdays = bikes[(bikes.dayvals != 5) & (bikes.dayvals != 6)]\n",
    "\n",
    "\tcustWknds = weekends[weekends.usertype == 'Customer']\n",
    "\tsubWknds = weekends[weekends.usertype == 'Subscriber']\n",
    "\n",
    "\tcustWkday = weekdays[weekdays.usertype == 'Customer']\n",
    "\tsubWkday = weekdays[weekdays.usertype == 'Subscriber']\n",
    "\n",
    "\tprint 'Weekend customers = %s' % (len(custWknds))\n",
    "\tprint 'Weekend subscribers = %s' % (len(subWknds)) \n",
    "\tprint 'Weekday customers = %s' % (len(custWkday))\n",
    "\tprint 'Weekday subscribers = %s' % (len(subWkday))"
   ]
  },
  {
   "cell_type": "markdown",
   "metadata": {},
   "source": [
    "###Ratios as follows:\n",
    "\n",
    "##For July 2015:\n",
    "### cust wknds: 73035\n",
    "### sub wknds: 156930\n",
    "### ratio = 2.15\n",
    "\n",
    "### cust wkdys: 107327\n",
    "### sub wkdys: 748384\n",
    "### ratio = 6.97\n",
    "\n",
    "## For Feb 2015:\n",
    "### cust wknds: 1054\n",
    "### sub wknds: 39783\n",
    "### ratio = 37.74\n",
    "\n",
    "### cust wkdy: 1211\n",
    "### sub wkdy: 154882\n",
    "### ratio =  127.89"
   ]
  }
 ],
 "metadata": {
  "kernelspec": {
   "display_name": "Python 2",
   "language": "python",
   "name": "python2"
  },
  "language_info": {
   "codemirror_mode": {
    "name": "ipython",
    "version": 2
   },
   "file_extension": ".py",
   "mimetype": "text/x-python",
   "name": "python",
   "nbconvert_exporter": "python",
   "pygments_lexer": "ipython2",
   "version": "2.7.9"
  }
 },
 "nbformat": 4,
 "nbformat_minor": 0
}
